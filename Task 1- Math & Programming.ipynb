{
 "cells": [
  {
   "cell_type": "code",
   "execution_count": 238,
   "id": "3ff3b2f0",
   "metadata": {},
   "outputs": [
    {
     "data": {
      "text/plain": [
       "array([[100., 100., 100., 100., 100., 100.],\n",
       "       [100.,   9.,   1.,   3.,   8., 100.],\n",
       "       [100.,   0.,   0.,   4.,   1., 100.],\n",
       "       [100.,   9.,   0.,   9.,   7., 100.],\n",
       "       [100.,  10.,   2.,   8.,   0., 100.],\n",
       "       [100., 100., 100., 100., 100., 100.]])"
      ]
     },
     "metadata": {},
     "output_type": "display_data"
    }
   ],
   "source": [
    "import numpy as np\n",
    "\n",
    "Game = np.array([9,1,3,8,0,0,4,1,9,0,9,7,10,2,8,0]).reshape(4,4)\n",
    "Extended = np.ones((6,6))*100\n",
    "Extended[1:-1,1:-1] = Game\n",
    "Game = Extended\n",
    "display(Game)\n",
    "\n",
    "dijkstra_table = np.empty((6,6,2),dtype = 'O')\n",
    "dijkstra_table[:,:,0] = 100\n",
    "\n",
    "visited_list = np.array([],dtype = 'O')\n",
    "\n",
    "\n",
    "def moving_on(current_node):\n",
    "    next_node = neighbour_analysis(current_node)\n",
    "    return next_node\n",
    "\n",
    "\n",
    "def neighbour_analysis(current_node):\n",
    "    global visited_list\n",
    "    x = current_node.x\n",
    "    y = current_node.y\n",
    "    neighbours = [(x,y-1),(x,y+1),(x-1,y),(x+1,y)]\n",
    "    min_cost = 10000\n",
    "    \n",
    "    next_vertex = current_node\n",
    "    for v in neighbours:\n",
    "        cost_time = Game[v]\n",
    "        if dijkstra_table[v[0],v[1],0] > cost_time:\n",
    "            dijkstra_table[v[0],v[1],0] = cost_time\n",
    "            dijkstra_table[v[0],v[1],1] = current_node\n",
    "            \n",
    "        #print(Vertex(v[0],v[1]))\n",
    "        if Game[v] < min_cost and (Vertex(v[0],v[1]) not in visited_list):\n",
    "            min_cost = Game[v]\n",
    "            next_vertex = Vertex(v[0],v[1])\n",
    "            #print(next_vertex)\n",
    "        \n",
    "            \n",
    "    visited_list = np.append(visited_list,next_vertex)                         \n",
    "    return next_vertex\n",
    "\n",
    "\n",
    "            \n",
    "        \n",
    "class Vertex:\n",
    "    def __init__(self,x,y):\n",
    "        self.x = x\n",
    "        self.y = y\n",
    "    def __str__(self):\n",
    "        return str(self.x)+':'+str(self.y)\n",
    "    def __repr__(self):\n",
    "        return str(self.x)+':'+str(self.y)\n",
    "    def __eq__(self,other):\n",
    "        if self.x == other.x and self.y == other.y:\n",
    "            return True\n",
    "        return False\n",
    "        \n"
   ]
  },
  {
   "cell_type": "code",
   "execution_count": 234,
   "id": "b092042c",
   "metadata": {},
   "outputs": [
    {
     "data": {
      "text/plain": [
       "2:1"
      ]
     },
     "execution_count": 234,
     "metadata": {},
     "output_type": "execute_result"
    }
   ],
   "source": [
    "A = Vertex(1,1)\n",
    "\n",
    "neighbour_analysis(A)"
   ]
  },
  {
   "cell_type": "code",
   "execution_count": 239,
   "id": "e806643c",
   "metadata": {},
   "outputs": [
    {
     "name": "stdout",
     "output_type": "stream",
     "text": [
      "2:1\n",
      "2:2\n",
      "3:2\n",
      "4:2\n",
      "4:3\n",
      "4:4\n"
     ]
    }
   ],
   "source": [
    "starting_point = Vertex(1,1)\n",
    "Ending_point = Vertex(4,4)\n",
    "visited_list = np.append(visited_list,starting_point)\n",
    "next_cord = starting_point\n",
    "while Ending_point not in visited_list:\n",
    "    next_cord = neighbour_analysis(next_cord)\n",
    "    print(next_cord)\n",
    "    \n"
   ]
  },
  {
   "cell_type": "code",
   "execution_count": 237,
   "id": "6f45c05f",
   "metadata": {},
   "outputs": [
    {
     "data": {
      "text/plain": [
       "array([[[100, None],\n",
       "        [100, None],\n",
       "        [100, None],\n",
       "        [100, None],\n",
       "        [100, None],\n",
       "        [100, None]],\n",
       "\n",
       "       [[100, None],\n",
       "        [9.0, 1:2],\n",
       "        [1.0, 1:1],\n",
       "        [3.0, 1:2],\n",
       "        [8.0, 1:-3],\n",
       "        [100, None]],\n",
       "\n",
       "       [[100, None],\n",
       "        [0.0, 1:1],\n",
       "        [0.0, 1:2],\n",
       "        [4.0, 2:2],\n",
       "        [1.0, 3:-2],\n",
       "        [100, None]],\n",
       "\n",
       "       [[100, None],\n",
       "        [9.0, 3:2],\n",
       "        [0.0, 2:2],\n",
       "        [9.0, 3:2],\n",
       "        [7.0, 3:-1],\n",
       "        [100, None]],\n",
       "\n",
       "       [[100, None],\n",
       "        [6.0, 4:2],\n",
       "        [2.0, 3:2],\n",
       "        [8.0, 4:2],\n",
       "        [0.0, 3:-2],\n",
       "        [100, None]],\n",
       "\n",
       "       [[100, None],\n",
       "        [100, None],\n",
       "        [100, None],\n",
       "        [100, None],\n",
       "        [100, None],\n",
       "        [100, None]]], dtype=object)"
      ]
     },
     "execution_count": 237,
     "metadata": {},
     "output_type": "execute_result"
    }
   ],
   "source": [
    "dijkstra_table"
   ]
  },
  {
   "cell_type": "code",
   "execution_count": 67,
   "id": "0dbdb66e",
   "metadata": {},
   "outputs": [],
   "source": [
    "import matplotlib.pyplot as plt\n",
    "\n",
    "class creat_game:\n",
    "    \n",
    "    def __init__(self,grid_size = (3,3)):\n",
    "        \n",
    "        self.size = grid_size\n",
    "    #DIST = ['gamma','log_normal','normal','possion']\n",
    "    \n",
    "    \n",
    "    \n",
    "    def make_grids(self):\n",
    "        \n",
    "        grid_nums = np.random.randint(10,size = self.size)\n",
    "        \n",
    "        fig, ax = plt.subplots()\n",
    "\n",
    "        min_val, max_val = 0, 3\n",
    "        ind_array = np.arange(min_val + 0.5, max_val + 0.5, 1.0)\n",
    "\n",
    "        x, y = np.meshgrid(ind_array, ind_array)\n",
    "\n",
    "        for x_val, y_val , value in zip(x.flatten(), y.flatten(), grid_nums.flatten()):\n",
    "    \n",
    "            ax.text(x_val, y_val, value, va='center', ha='center')\n",
    "\n",
    "        ax.set_xlim(min_val, max_val)\n",
    "        ax.set_ylim(min_val, max_val)\n",
    "        ax.set_xticks(np.arange(max_val))\n",
    "        ax.set_yticks(np.arange(max_val))\n",
    "\n",
    "        ax.grid()\n",
    "        \n",
    "        \n",
    "    \n"
   ]
  },
  {
   "cell_type": "code",
   "execution_count": 68,
   "id": "1053bd39",
   "metadata": {},
   "outputs": [],
   "source": [
    "a = creat_game((3,3))\n"
   ]
  },
  {
   "cell_type": "code",
   "execution_count": 69,
   "id": "678e3851",
   "metadata": {},
   "outputs": [
    {
     "data": {
      "image/png": "[encoded data removed]",
      "text/plain": [
       "<Figure size 432x288 with 1 Axes>"
      ]
     },
     "metadata": {
      "needs_background": "light"
     },
     "output_type": "display_data"
    }
   ],
   "source": [
    "a.make_grids()\n",
    "    "
   ]
  },
  {
   "cell_type": "code",
   "execution_count": 56,
   "id": "a4076313",
   "metadata": {},
   "outputs": [
    {
     "data": {
      "image/png": "[encoded data removed]",
      "text/plain": [
       "<Figure size 432x288 with 1 Axes>"
      ]
     },
     "metadata": {
      "needs_background": "light"
     },
     "output_type": "display_data"
    }
   ],
   "source": [
    "import numpy as np\n",
    "import matplotlib.pyplot as plt\n",
    "\n",
    "a = np.random.randint(10,size = (3,3))\n",
    "\n",
    "fig, ax = plt.subplots()\n",
    "\n",
    "min_val, max_val = 0, 3\n",
    "ind_array = np.arange(min_val + 0.5, max_val + 0.5, 1.0)\n",
    "\n",
    "x, y = np.meshgrid(ind_array, ind_array)\n",
    "\n",
    "for x_val, y_val , value in zip(x.flatten(), y.flatten(),a.flatten()):\n",
    "    \n",
    "    ax.text(x_val, y_val, value, va='center', ha='center')\n",
    "\n",
    "ax.set_xlim(min_val, max_val)\n",
    "ax.set_ylim(min_val, max_val)\n",
    "ax.set_xticks(np.arange(max_val))\n",
    "ax.set_yticks(np.arange(max_val))\n",
    "\n",
    "ax.grid()"
   ]
  },
  {
   "cell_type": "code",
   "execution_count": 49,
   "id": "6a6fd0dc",
   "metadata": {},
   "outputs": [
    {
     "data": {
      "text/plain": [
       "[(0, (0.5, 0.5)),\n",
       " (1, (1.5, 0.5)),\n",
       " (2, (2.5, 0.5)),\n",
       " (3, (0.5, 1.5)),\n",
       " (4, (1.5, 1.5)),\n",
       " (5, (2.5, 1.5)),\n",
       " (6, (0.5, 2.5)),\n",
       " (7, (1.5, 2.5)),\n",
       " (8, (2.5, 2.5))]"
      ]
     },
     "execution_count": 49,
     "metadata": {},
     "output_type": "execute_result"
    }
   ],
   "source": []
  },
  {
   "cell_type": "code",
   "execution_count": null,
   "id": "b39eb362",
   "metadata": {},
   "outputs": [],
   "source": []
  }
 ],
 "metadata": {
  "kernelspec": {
   "display_name": "Python 3",
   "language": "python",
   "name": "python3"
  },
  "language_info": {
   "codemirror_mode": {
    "name": "ipython",
    "version": 3
   },
   "file_extension": ".py",
   "mimetype": "text/x-python",
   "name": "python",
   "nbconvert_exporter": "python",
   "pygments_lexer": "ipython3",
   "version": "3.8.8"
  }
 },
 "nbformat": 4,
 "nbformat_minor": 5
}
