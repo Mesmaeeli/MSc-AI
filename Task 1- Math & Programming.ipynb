import numpy as np

Game = np.array([[9,1,3,8,2,6,6,5,9,8,0,7,7,2,9],
                 [0,0,4,1,1,7,4,4,9,0,6,4,4,2,6],
                 [9,0,9,7,0,9,2,1,0,2,4,6,0,2,2],
                 [6,2,8,0,8,9,3,5,8,0,5,5,8,7,3],
                 [6,3,9,6,9,5,3,4,7,1,9,0,2,9,5],
                 [3,3,0,0,9,9,6,8,4,1,5,6,0,7,7],
                 [0,2,9,6,3,9,2,1,3,1,3,4,0,1,2],
                 [8,8,2,5,0,7,2,0,0,5,6,7,3,1,4],
                 [6,1,3,3,0,2,8,3,0,1,2,3,0,7,7],
                 [2,7,5,8,1,0,0,3,0,4,4,4,5,1,6]
                ])
# Game = np.array([9,1,3,8,
#                  0,0,4,1,
#                  9,0,9,7,
#                  10,2,8,0]).reshape(4,4)

cell_num = Game.size

dijkstra_table = np.arange(cell_num).reshape(1,cell_num).astype('object')
dijkstra_table[:] = np.Inf
inf_row = np.arange(cell_num).reshape(1,cell_num).astype('object')
inf_row[:] = np.Inf

current_cell = (0,0)
cost_list = []
current_cost = 0
track = []
step = 0

def find_neighbours(cell):
    global current_cost
#    print(cell)
    current_cost += Game[cell[0],cell[1]]
    cost_list.append(current_cost)
    track.append(cell)
    neighbours_list = []
    for i in [-1,0,1]:
        for j in [-1,0,1]:
            if (i * j == 1 or i * j == -1) or (i == 0 and j == 0):
                continue
            try:
                neighbour = [cell[0]+i,cell[1]+j]
                assert Game.shape[0] > cell[0]+i >= 0 and Game.shape[1] > cell[1]+j >= 0
                neighbours_list.append(neighbour)                
            except:
                continue
    return neighbours_list




def table_matching(neighbour_list,step,current_cost):
    global dijkstra_table
    
    dijkstra_table = np.concatenate((dijkstra_table,inf_row))
    
    best_cord = []
    best_value = np.Inf

    for neighbour in neighbour_list:
        
        selected_col = neighbour[0] * Game.shape[0] + neighbour[1]
        
        dijkstra_table[step,selected_col] = Game.flatten()[selected_col] + current_cost
        
        if Game[neighbour[0],neighbour[1]] < best_value and neighbour not in track:
                        
            best_cord = neighbour
            
            best_value = Game[neighbour[0],neighbour[1]]
            
            
            
    final_best = decision_making(best_value, best_cord)
        
#    print('final:',final_best)
            
#     best_cell = np.argmin(dijkstra_table[step], axis = -1)
    
#     previous_best = np.argmin(dijkstra_table[:,best_cell],axis = 0)
    
#     if previous_best == step:
#         pass
        
#     else:
#         'ghablan behtar dashtim'
        
    
#     loc = np.argmin(dijkstra_table[step],axis = -1)
    
#     if dijkstra_table[step,loc] == np.min(dijkstra_table[step],axis = -1):
        
#         x = loc//Game.shape[0]
#         y = loc % Game.shape[0]
    
#     current_cost += (Game[x,y])
    
    return final_best
        
        
        
def decision_making(best_value, best_cord):
    
#    print('best:',best_cord)
    
    selected_col = best_cord[0] * Game.shape[0] + best_cord[1]
    
    if np.min(dijkstra_table[:,selected_col], axis = 0) < best_value:
        
        return_step = np.argmin(dijkstra_table[:,selected_col], axis = 0)
            
        del(dijkstra_table[return_step + 1 :,:])
        
        del(track[return_step + 1 :])
        
        del(cost_list[return_step + 1 :])
        
        current_cost = cost_list[-1]
        
        x = return_step//Game.shape[0]
        
        y = return_step % Game.shape[0]
        
        print('problem accured')
        return [x,y]
    
    else:
        print('no problem')
        return best_cord
        
        
        

    pass


def game_play(starting, ending):
    global step
    
    if ending in track:
        return 'finished'
    
    else:
        Neighbours = find_neighbours(starting)
        matching = table_matching(Neighbours,step,current_cost)
        step += 1
        return game_play(matching, ending)
